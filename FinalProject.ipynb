{
 "cells": [
  {
   "cell_type": "markdown",
   "id": "7abb7c22-e1bb-4568-a6d7-202b58cf2f66",
   "metadata": {},
   "source": [
    "## RCES Final Project"
   ]
  },
  {
   "cell_type": "code",
   "execution_count": 1,
   "id": "896fab9b-1605-48b6-b571-bf7be20fe8c1",
   "metadata": {},
   "outputs": [],
   "source": [
    "h = 'hello'"
   ]
  },
  {
   "cell_type": "code",
   "execution_count": 2,
   "id": "f1297a8e-4d6c-4885-901b-b1017557d6c3",
   "metadata": {},
   "outputs": [
    {
     "data": {
      "text/plain": [
       "'hello'"
      ]
     },
     "execution_count": 2,
     "metadata": {},
     "output_type": "execute_result"
    }
   ],
   "source": [
    "h"
   ]
  },
  {
   "cell_type": "code",
   "execution_count": 3,
   "id": "7eab9e07-495a-4708-8b85-487609360b84",
   "metadata": {},
   "outputs": [],
   "source": [
    "import numpy as np"
   ]
  },
  {
   "cell_type": "code",
   "execution_count": 4,
   "id": "b767f111-6f3b-4a2d-a9df-6250f2a6cde6",
   "metadata": {},
   "outputs": [],
   "source": [
    "#cannot import pandas since not in the environment file "
   ]
  },
  {
   "cell_type": "code",
   "execution_count": null,
   "id": "a39961f1-2fc0-40fe-a970-0925d47587b9",
   "metadata": {},
   "outputs": [],
   "source": []
  }
 ],
 "metadata": {
  "kernelspec": {
   "display_name": "Python 3 (ipykernel)",
   "language": "python",
   "name": "python3"
  },
  "language_info": {
   "codemirror_mode": {
    "name": "ipython",
    "version": 3
   },
   "file_extension": ".py",
   "mimetype": "text/x-python",
   "name": "python",
   "nbconvert_exporter": "python",
   "pygments_lexer": "ipython3",
   "version": "3.9.13"
  }
 },
 "nbformat": 4,
 "nbformat_minor": 5
}
